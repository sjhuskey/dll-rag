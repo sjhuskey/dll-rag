{
 "cells": [
  {
   "cell_type": "markdown",
   "metadata": {},
   "source": [
    "# Convert dataframe column into embeddings\n",
    "\n",
    "Since the RAG model can't deal with text directly, I need to transform the text into embedded tensors. I'll use HuggingFace's `SentenceTransformer` to tokenize and embed the values from the `Text` column that I made in the last step."
   ]
  },
  {
   "cell_type": "code",
   "execution_count": 1,
   "metadata": {},
   "outputs": [],
   "source": [
    "import pandas as pd\n",
    "from sentence_transformers import SentenceTransformer\n",
    "\n",
    "df = pd.read_csv('fresh/all_data.csv')\n",
    "\n",
    "# Load the model\n",
    "model = SentenceTransformer('distiluse-base-multilingual-cased-v2')\n",
    "\n",
    "# Generate embeddings for the Text column\n",
    "embeddings = model.encode(df['Text'].tolist(), convert_to_tensor=True)"
   ]
  },
  {
   "cell_type": "markdown",
   "metadata": {},
   "source": [
    "# Save the Embeddings for Later Use\n",
    "\n",
    "For the vector store, I'm going to use [FAISS (Facebook AI Similarity Search)](https://ai.meta.com/tools/faiss/), \"a library that allows developers to quickly search for embeddings of multimedia documents that are similar to each other.\""
   ]
  },
  {
   "cell_type": "code",
   "execution_count": 2,
   "metadata": {},
   "outputs": [],
   "source": [
    "import faiss\n",
    "import numpy as np\n",
    "\n",
    "# Convert embeddings to NumPy array\n",
    "embedding_matrix = np.vstack(embeddings)\n",
    "\n",
    "# Build FAISS index\n",
    "index = faiss.IndexFlatL2(embedding_matrix.shape[1])\n",
    "index.add(embedding_matrix)\n",
    "\n",
    "# Save the index\n",
    "faiss.write_index(index, \"vector_index.faiss\")"
   ]
  }
 ],
 "metadata": {
  "kernelspec": {
   "display_name": "aiml",
   "language": "python",
   "name": "python3"
  },
  "language_info": {
   "codemirror_mode": {
    "name": "ipython",
    "version": 3
   },
   "file_extension": ".py",
   "mimetype": "text/x-python",
   "name": "python",
   "nbconvert_exporter": "python",
   "pygments_lexer": "ipython3",
   "version": "3.10.15"
  }
 },
 "nbformat": 4,
 "nbformat_minor": 2
}
