{
 "cells": [
  {
   "cell_type": "markdown",
   "metadata": {},
   "source": [
    "# Add Titles of Works and Work IDs to Database\n",
    "\n",
    "Now I need to add the titles of works and their work IDs to the mix. I have those in a file downloaded from the DLL Catalog. The Greek authors will not have any works associated with their names since I don't need them."
   ]
  },
  {
   "cell_type": "code",
   "execution_count": 1,
   "metadata": {},
   "outputs": [],
   "source": [
    "import pandas as pd"
   ]
  },
  {
   "cell_type": "code",
   "execution_count": 2,
   "metadata": {},
   "outputs": [],
   "source": [
    "# Read in the Latin and Greek CSV\n",
    "latin_greek = pd.read_csv('data/latin_greek.csv')\n",
    "# Make a dataframe of the Works and Work IDs\n",
    "works = pd.read_csv('data/dll-works-and-authors.csv')"
   ]
  },
  {
   "cell_type": "code",
   "execution_count": 3,
   "metadata": {},
   "outputs": [
    {
     "name": "stdout",
     "output_type": "stream",
     "text": [
      "<class 'pandas.core.frame.DataFrame'>\n",
      "RangeIndex: 5515 entries, 0 to 5514\n",
      "Data columns (total 4 columns):\n",
      " #   Column           Non-Null Count  Dtype \n",
      "---  ------           --------------  ----- \n",
      " 0   DLL ID           5515 non-null   object\n",
      " 1   Authorized Name  5515 non-null   object\n",
      " 2   Variant Names    5515 non-null   object\n",
      " 3   Latin            5515 non-null   int64 \n",
      "dtypes: int64(1), object(3)\n",
      "memory usage: 172.5+ KB\n",
      "None\n",
      "<class 'pandas.core.frame.DataFrame'>\n",
      "RangeIndex: 5279 entries, 0 to 5278\n",
      "Data columns (total 9 columns):\n",
      " #   Column                       Non-Null Count  Dtype \n",
      "---  ------                       --------------  ----- \n",
      " 0   Title                        5279 non-null   object\n",
      " 1   Work Name                    5279 non-null   object\n",
      " 2   Alternative Title            484 non-null    object\n",
      " 3   Short Title                  4 non-null      object\n",
      " 4   Author Name Latin            4753 non-null   object\n",
      " 5   Author Name Native Language  2941 non-null   object\n",
      " 6   Creator                      4957 non-null   object\n",
      " 7   DLL Identifier (Work)        5279 non-null   object\n",
      " 8   DLL Identifier (Author)      4955 non-null   object\n",
      "dtypes: object(9)\n",
      "memory usage: 371.3+ KB\n",
      "None\n"
     ]
    }
   ],
   "source": [
    "# Get information about the two dataframes\n",
    "print(latin_greek.info())\n",
    "print(works.info())"
   ]
  },
  {
   "cell_type": "code",
   "execution_count": 4,
   "metadata": {},
   "outputs": [],
   "source": [
    "# Synchronize the column names\n",
    "latin_greek = latin_greek.rename(columns={'DLL ID': 'DLL Identifier (Author)',})"
   ]
  },
  {
   "cell_type": "code",
   "execution_count": 5,
   "metadata": {},
   "outputs": [],
   "source": [
    "# Drop some of the unnecessary columns in works\n",
    "works = works [['DLL Identifier (Author)','DLL Identifier (Work)','Title','Alternative Title']]"
   ]
  },
  {
   "cell_type": "markdown",
   "metadata": {},
   "source": [
    "Right now, there is a single row for each individual work. That means that an author's ID can appear multiple times in the `works` data, but only once in the `database` data. I need to combine the rows in works so that there is a single row for each author."
   ]
  },
  {
   "cell_type": "code",
   "execution_count": 6,
   "metadata": {},
   "outputs": [],
   "source": [
    "# Combine the Title and Alternative Title into \"Title (Alternative TItle)\"\n",
    "works[\"Combined Titles\"] = works.apply(\n",
    "    lambda row: f\"{row['Title']} ({row['Alternative Title']})\" if pd.notna(row[\"Alternative Title\"]) and row[\"Alternative Title\"] \n",
    "    else row[\"Title\"] if row[\"Title\"] \n",
    "    else \"\",\n",
    "    axis=1\n",
    ")"
   ]
  },
  {
   "cell_type": "markdown",
   "metadata": {},
   "source": [
    "The following block makes a new dataframe called `grouped` by calling `groupby()` on the `DLL Identifier (Author)` column of `works`, then applying a `lambda` function to the `DLL Identifier (Work)` and `Combined Titles` columns. If there's more than one work, they will be separated by a semicolon and a space. Otherwise, there will just be a work ID and the combined titles. If there aren't any works, then \"No works available\" will be added."
   ]
  },
  {
   "cell_type": "code",
   "execution_count": 7,
   "metadata": {},
   "outputs": [],
   "source": [
    "grouped = works.groupby('DLL Identifier (Author)')[['DLL Identifier (Work)','Combined Titles']].apply(\n",
    "    lambda group: (\n",
    "        \";\".join(\n",
    "            f\"{row['DLL Identifier (Work)']}: {row['Combined Titles']}\" for _, row in group.iterrows()\n",
    "        )\n",
    "        if len(group) > 1  # Check if there is more than one work\n",
    "        else f\"{group.iloc[0]['DLL Identifier (Work)']}: {group.iloc[0]['Combined Titles']}\"  # Single work\n",
    "        if len(group) == 1\n",
    "        else \"No works available\"\n",
    "    )\n",
    ").reset_index().rename(columns={0:'Combined Works'})"
   ]
  },
  {
   "cell_type": "code",
   "execution_count": 8,
   "metadata": {},
   "outputs": [
    {
     "data": {
      "text/html": [
       "<div>\n",
       "<style scoped>\n",
       "    .dataframe tbody tr th:only-of-type {\n",
       "        vertical-align: middle;\n",
       "    }\n",
       "\n",
       "    .dataframe tbody tr th {\n",
       "        vertical-align: top;\n",
       "    }\n",
       "\n",
       "    .dataframe thead th {\n",
       "        text-align: right;\n",
       "    }\n",
       "</style>\n",
       "<table border=\"1\" class=\"dataframe\">\n",
       "  <thead>\n",
       "    <tr style=\"text-align: right;\">\n",
       "      <th></th>\n",
       "      <th>DLL Identifier (Author)</th>\n",
       "      <th>Combined Works</th>\n",
       "    </tr>\n",
       "  </thead>\n",
       "  <tbody>\n",
       "    <tr>\n",
       "      <th>0</th>\n",
       "      <td>A2491</td>\n",
       "      <td>W5039: In Decem Libros Priores Elementorum Euc...</td>\n",
       "    </tr>\n",
       "    <tr>\n",
       "      <th>1</th>\n",
       "      <td>A2868</td>\n",
       "      <td>W3325: Fragmenta</td>\n",
       "    </tr>\n",
       "    <tr>\n",
       "      <th>2</th>\n",
       "      <td>A2869</td>\n",
       "      <td>W1662: Lupercalia</td>\n",
       "    </tr>\n",
       "    <tr>\n",
       "      <th>3</th>\n",
       "      <td>A2870</td>\n",
       "      <td>W5168: Iurisprudentia</td>\n",
       "    </tr>\n",
       "    <tr>\n",
       "      <th>4</th>\n",
       "      <td>A2871</td>\n",
       "      <td>W1628: Epist. ab M. Claudio Marcello</td>\n",
       "    </tr>\n",
       "    <tr>\n",
       "      <th>...</th>\n",
       "      <td>...</td>\n",
       "      <td>...</td>\n",
       "    </tr>\n",
       "    <tr>\n",
       "      <th>1384</th>\n",
       "      <td>A5727</td>\n",
       "      <td>W1967: Fragmenta</td>\n",
       "    </tr>\n",
       "    <tr>\n",
       "      <th>1385</th>\n",
       "      <td>A5730</td>\n",
       "      <td>W453: Fragmenta</td>\n",
       "    </tr>\n",
       "    <tr>\n",
       "      <th>1386</th>\n",
       "      <td>A5986</td>\n",
       "      <td>W10631: De facultatibus alimentorum ex Paulo A...</td>\n",
       "    </tr>\n",
       "    <tr>\n",
       "      <th>1387</th>\n",
       "      <td>A907</td>\n",
       "      <td>W499: Grammatica;W560: Iurisprudentia</td>\n",
       "    </tr>\n",
       "    <tr>\n",
       "      <th>1388</th>\n",
       "      <td>A910</td>\n",
       "      <td>W4044: Eclogae (Bucolica)</td>\n",
       "    </tr>\n",
       "  </tbody>\n",
       "</table>\n",
       "<p>1389 rows × 2 columns</p>\n",
       "</div>"
      ],
      "text/plain": [
       "     DLL Identifier (Author)  \\\n",
       "0                      A2491   \n",
       "1                      A2868   \n",
       "2                      A2869   \n",
       "3                      A2870   \n",
       "4                      A2871   \n",
       "...                      ...   \n",
       "1384                   A5727   \n",
       "1385                   A5730   \n",
       "1386                   A5986   \n",
       "1387                    A907   \n",
       "1388                    A910   \n",
       "\n",
       "                                         Combined Works  \n",
       "0     W5039: In Decem Libros Priores Elementorum Euc...  \n",
       "1                                      W3325: Fragmenta  \n",
       "2                                     W1662: Lupercalia  \n",
       "3                                 W5168: Iurisprudentia  \n",
       "4                  W1628: Epist. ab M. Claudio Marcello  \n",
       "...                                                 ...  \n",
       "1384                                   W1967: Fragmenta  \n",
       "1385                                    W453: Fragmenta  \n",
       "1386  W10631: De facultatibus alimentorum ex Paulo A...  \n",
       "1387              W499: Grammatica;W560: Iurisprudentia  \n",
       "1388                          W4044: Eclogae (Bucolica)  \n",
       "\n",
       "[1389 rows x 2 columns]"
      ]
     },
     "metadata": {},
     "output_type": "display_data"
    }
   ],
   "source": [
    "display(grouped)"
   ]
  },
  {
   "cell_type": "markdown",
   "metadata": {},
   "source": [
    "Now I need to merge the `database` and `grouped` dataframes to bring the `Combined Works` into the mix. I'm using a `how='left'` to get the \"Cartesian product\" of the two dataframes. That is, I should end up with a new dataframe that has the same number of rows as `database`, but with `Combined Works` added to the rows with matching `DLL Identifier (Author)` values."
   ]
  },
  {
   "cell_type": "code",
   "execution_count": 9,
   "metadata": {},
   "outputs": [],
   "source": [
    "# Merge the dataframes so that there's only one\n",
    "# Use a left join to preserve the Cartesian product\n",
    "merged = pd.merge(latin_greek,grouped,on='DLL Identifier (Author)',how='left')"
   ]
  },
  {
   "cell_type": "code",
   "execution_count": 10,
   "metadata": {},
   "outputs": [
    {
     "name": "stdout",
     "output_type": "stream",
     "text": [
      "5515\n",
      "5515\n"
     ]
    }
   ],
   "source": [
    "# Compare the number of rows. They should be the same.\n",
    "print(len(latin_greek))\n",
    "print(len(merged))"
   ]
  },
  {
   "cell_type": "code",
   "execution_count": 11,
   "metadata": {},
   "outputs": [
    {
     "data": {
      "text/html": [
       "<div>\n",
       "<style scoped>\n",
       "    .dataframe tbody tr th:only-of-type {\n",
       "        vertical-align: middle;\n",
       "    }\n",
       "\n",
       "    .dataframe tbody tr th {\n",
       "        vertical-align: top;\n",
       "    }\n",
       "\n",
       "    .dataframe thead th {\n",
       "        text-align: right;\n",
       "    }\n",
       "</style>\n",
       "<table border=\"1\" class=\"dataframe\">\n",
       "  <thead>\n",
       "    <tr style=\"text-align: right;\">\n",
       "      <th></th>\n",
       "      <th>DLL Identifier (Author)</th>\n",
       "      <th>Authorized Name</th>\n",
       "      <th>Variant Names</th>\n",
       "      <th>Latin</th>\n",
       "      <th>Combined Works</th>\n",
       "    </tr>\n",
       "  </thead>\n",
       "  <tbody>\n",
       "    <tr>\n",
       "      <th>0</th>\n",
       "      <td>A1868</td>\n",
       "      <td>Herryson, Joannes</td>\n",
       "      <td>Herryson, Joannes floruit=15th Century A.D. | ...</td>\n",
       "      <td>1</td>\n",
       "      <td>NaN</td>\n",
       "    </tr>\n",
       "    <tr>\n",
       "      <th>1</th>\n",
       "      <td>A1870</td>\n",
       "      <td>Stratford, John, -1348</td>\n",
       "      <td>Johannes Stratford | John Stratford | John Str...</td>\n",
       "      <td>1</td>\n",
       "      <td>NaN</td>\n",
       "    </tr>\n",
       "    <tr>\n",
       "      <th>2</th>\n",
       "      <td>A2181</td>\n",
       "      <td>Nicomachus, of Gerasa</td>\n",
       "      <td>Nicòmac, de Gerasa, actiu segle I | Nicomachus...</td>\n",
       "      <td>1</td>\n",
       "      <td>NaN</td>\n",
       "    </tr>\n",
       "    <tr>\n",
       "      <th>3</th>\n",
       "      <td>A2491</td>\n",
       "      <td>Anaritius, -approximately 922</td>\n",
       "      <td>Abū al-ʿAbbās al-Faḍl ibn Ḥātim Nayrīzī...</td>\n",
       "      <td>1</td>\n",
       "      <td>W5039: In Decem Libros Priores Elementorum Euc...</td>\n",
       "    </tr>\n",
       "    <tr>\n",
       "      <th>4</th>\n",
       "      <td>A2492</td>\n",
       "      <td>Strecker, Karl, 1861-1945</td>\n",
       "      <td>Karl Strecker | Strecker, Karl | Strecker, Kar...</td>\n",
       "      <td>1</td>\n",
       "      <td>NaN</td>\n",
       "    </tr>\n",
       "    <tr>\n",
       "      <th>...</th>\n",
       "      <td>...</td>\n",
       "      <td>...</td>\n",
       "      <td>...</td>\n",
       "      <td>...</td>\n",
       "      <td>...</td>\n",
       "    </tr>\n",
       "    <tr>\n",
       "      <th>5510</th>\n",
       "      <td>G73664</td>\n",
       "      <td>Leo, VI, Emperor of the East 866-912</td>\n",
       "      <td>Léon VI |  0866-0912 |  empereur d'Orient |  L...</td>\n",
       "      <td>0</td>\n",
       "      <td>NaN</td>\n",
       "    </tr>\n",
       "    <tr>\n",
       "      <th>5511</th>\n",
       "      <td>G54624</td>\n",
       "      <td>Xenocrates, of Chalcedon, approximately 396 B....</td>\n",
       "      <td>Xenocrates |  of Chalcedon |  approximately 39...</td>\n",
       "      <td>0</td>\n",
       "      <td>NaN</td>\n",
       "    </tr>\n",
       "    <tr>\n",
       "      <th>5512</th>\n",
       "      <td>G28402</td>\n",
       "      <td>Thaletas, Musicus, um. 665 v. chr.</td>\n",
       "      <td>Taletes |  Thaletas Musicus v665</td>\n",
       "      <td>0</td>\n",
       "      <td>NaN</td>\n",
       "    </tr>\n",
       "    <tr>\n",
       "      <th>5513</th>\n",
       "      <td>G29158</td>\n",
       "      <td>Pachymérès, George, 1242-approximately 1310</td>\n",
       "      <td>Pachymère |  Georges 1242-1310? |  Pachymeres ...</td>\n",
       "      <td>0</td>\n",
       "      <td>NaN</td>\n",
       "    </tr>\n",
       "    <tr>\n",
       "      <th>5514</th>\n",
       "      <td>G48342</td>\n",
       "      <td>Philoxenus, of Alexandria, 1st cent. B.C.</td>\n",
       "      <td>Philoxène de Cythère 0435?-0380? |  Philoxenus...</td>\n",
       "      <td>0</td>\n",
       "      <td>NaN</td>\n",
       "    </tr>\n",
       "  </tbody>\n",
       "</table>\n",
       "<p>5515 rows × 5 columns</p>\n",
       "</div>"
      ],
      "text/plain": [
       "     DLL Identifier (Author)  \\\n",
       "0                      A1868   \n",
       "1                      A1870   \n",
       "2                      A2181   \n",
       "3                      A2491   \n",
       "4                      A2492   \n",
       "...                      ...   \n",
       "5510                  G73664   \n",
       "5511                  G54624   \n",
       "5512                  G28402   \n",
       "5513                  G29158   \n",
       "5514                  G48342   \n",
       "\n",
       "                                        Authorized Name  \\\n",
       "0                                     Herryson, Joannes   \n",
       "1                                Stratford, John, -1348   \n",
       "2                                 Nicomachus, of Gerasa   \n",
       "3                         Anaritius, -approximately 922   \n",
       "4                             Strecker, Karl, 1861-1945   \n",
       "...                                                 ...   \n",
       "5510               Leo, VI, Emperor of the East 866-912   \n",
       "5511  Xenocrates, of Chalcedon, approximately 396 B....   \n",
       "5512                 Thaletas, Musicus, um. 665 v. chr.   \n",
       "5513        Pachymérès, George, 1242-approximately 1310   \n",
       "5514          Philoxenus, of Alexandria, 1st cent. B.C.   \n",
       "\n",
       "                                          Variant Names  Latin  \\\n",
       "0     Herryson, Joannes floruit=15th Century A.D. | ...      1   \n",
       "1     Johannes Stratford | John Stratford | John Str...      1   \n",
       "2     Nicòmac, de Gerasa, actiu segle I | Nicomachus...      1   \n",
       "3     Abū al-ʿAbbās al-Faḍl ibn Ḥātim Nayrīzī...      1   \n",
       "4     Karl Strecker | Strecker, Karl | Strecker, Kar...      1   \n",
       "...                                                 ...    ...   \n",
       "5510  Léon VI |  0866-0912 |  empereur d'Orient |  L...      0   \n",
       "5511  Xenocrates |  of Chalcedon |  approximately 39...      0   \n",
       "5512                   Taletes |  Thaletas Musicus v665      0   \n",
       "5513  Pachymère |  Georges 1242-1310? |  Pachymeres ...      0   \n",
       "5514  Philoxène de Cythère 0435?-0380? |  Philoxenus...      0   \n",
       "\n",
       "                                         Combined Works  \n",
       "0                                                   NaN  \n",
       "1                                                   NaN  \n",
       "2                                                   NaN  \n",
       "3     W5039: In Decem Libros Priores Elementorum Euc...  \n",
       "4                                                   NaN  \n",
       "...                                                 ...  \n",
       "5510                                                NaN  \n",
       "5511                                                NaN  \n",
       "5512                                                NaN  \n",
       "5513                                                NaN  \n",
       "5514                                                NaN  \n",
       "\n",
       "[5515 rows x 5 columns]"
      ]
     },
     "metadata": {},
     "output_type": "display_data"
    }
   ],
   "source": [
    "display(merged)"
   ]
  },
  {
   "cell_type": "markdown",
   "metadata": {},
   "source": [
    "In the previous steps, I thought it was a good idea to use the pipe character as a delimiter when combining values. Since I need to use that character to delineate all the columns when I combine them into the \"Text\" column, I should replace the pipe with a semicolon."
   ]
  },
  {
   "cell_type": "code",
   "execution_count": 12,
   "metadata": {},
   "outputs": [
    {
     "data": {
      "text/plain": [
       "0       Herryson, Joannes floruit=15th Century A.D.;Jo...\n",
       "1       Johannes Stratford;John Stratford;John Stratfo...\n",
       "2       Nicòmac, de Gerasa, actiu segle I;Nicomachus, ...\n",
       "3       Abū al-ʿAbbās al-Faḍl ibn Ḥātim Nayrīzī...\n",
       "4       Karl Strecker;Strecker, Karl;Strecker, Karl, 1...\n",
       "                              ...                        \n",
       "5510    Léon VI; 0866-0912; empereur d'Orient; Leo VI....\n",
       "5511    Xenocrates; of Chalcedon; approximately 396 B....\n",
       "5512                       Taletes; Thaletas Musicus v665\n",
       "5513    Pachymère; Georges 1242-1310?; Pachymeres; Geo...\n",
       "5514    Philoxène de Cythère 0435?-0380?; Philoxenus; ...\n",
       "Name: Variant Names, Length: 5515, dtype: object"
      ]
     },
     "metadata": {},
     "output_type": "display_data"
    }
   ],
   "source": [
    "# Replace pipe with semicolon in columns\n",
    "merged['Variant Names'] = merged['Variant Names'].str.replace(\" | \",\";\")\n",
    "display(merged['Variant Names'])"
   ]
  },
  {
   "cell_type": "code",
   "execution_count": 13,
   "metadata": {},
   "outputs": [
    {
     "data": {
      "text/plain": [
       "Index(['DLL Identifier (Author)', 'Authorized Name', 'Variant Names', 'Latin',\n",
       "       'Combined Works'],\n",
       "      dtype='object')"
      ]
     },
     "execution_count": 13,
     "metadata": {},
     "output_type": "execute_result"
    }
   ],
   "source": [
    "# Check the columns\n",
    "merged.columns"
   ]
  },
  {
   "cell_type": "markdown",
   "metadata": {},
   "source": [
    "I was also being too clever by half in using 0 and 1 to label authors as Greek or Latin, respectively. I'll use the `map()` method to take care of that."
   ]
  },
  {
   "cell_type": "code",
   "execution_count": 14,
   "metadata": {},
   "outputs": [],
   "source": [
    "# Change the values of the Latin column to \"Latin\" (1) and \"Greek\" (0)\n",
    "latin_dict = {1:'Latin',0:'Greek'}\n",
    "merged['Latin'] = merged['Latin'].map(latin_dict).astype(\"str\")"
   ]
  },
  {
   "cell_type": "markdown",
   "metadata": {},
   "source": [
    "I need to combine the columns, except `Text` (which was a mistake—I made it too soon in a previous step), into one column, with the different values separated by a pipe. That's a relatively simple operation."
   ]
  },
  {
   "cell_type": "code",
   "execution_count": 15,
   "metadata": {},
   "outputs": [],
   "source": [
    "# Replace NaN with an empty string before concatenation\n",
    "merged['Text'] = (\n",
    "    merged['DLL Identifier (Author)'].fillna('') + '|' +\n",
    "    merged['Authorized Name'].fillna('') + '|' +\n",
    "    merged['Variant Names'].fillna('') + '|' +\n",
    "    merged['Latin'].fillna('').astype('str') + '|' +\n",
    "    merged['Combined Works'].fillna('')\n",
    ")"
   ]
  },
  {
   "cell_type": "code",
   "execution_count": 16,
   "metadata": {},
   "outputs": [
    {
     "data": {
      "text/html": [
       "<div>\n",
       "<style scoped>\n",
       "    .dataframe tbody tr th:only-of-type {\n",
       "        vertical-align: middle;\n",
       "    }\n",
       "\n",
       "    .dataframe tbody tr th {\n",
       "        vertical-align: top;\n",
       "    }\n",
       "\n",
       "    .dataframe thead th {\n",
       "        text-align: right;\n",
       "    }\n",
       "</style>\n",
       "<table border=\"1\" class=\"dataframe\">\n",
       "  <thead>\n",
       "    <tr style=\"text-align: right;\">\n",
       "      <th></th>\n",
       "      <th>DLL Identifier (Author)</th>\n",
       "      <th>Authorized Name</th>\n",
       "      <th>Variant Names</th>\n",
       "      <th>Latin</th>\n",
       "      <th>Combined Works</th>\n",
       "      <th>Text</th>\n",
       "    </tr>\n",
       "  </thead>\n",
       "  <tbody>\n",
       "    <tr>\n",
       "      <th>0</th>\n",
       "      <td>A1868</td>\n",
       "      <td>Herryson, Joannes</td>\n",
       "      <td>Herryson, Joannes floruit=15th Century A.D.;Jo...</td>\n",
       "      <td>Latin</td>\n",
       "      <td>NaN</td>\n",
       "      <td>A1868|Herryson, Joannes|Herryson, Joannes flor...</td>\n",
       "    </tr>\n",
       "    <tr>\n",
       "      <th>1</th>\n",
       "      <td>A1870</td>\n",
       "      <td>Stratford, John, -1348</td>\n",
       "      <td>Johannes Stratford;John Stratford;John Stratfo...</td>\n",
       "      <td>Latin</td>\n",
       "      <td>NaN</td>\n",
       "      <td>A1870|Stratford, John, -1348|Johannes Stratfor...</td>\n",
       "    </tr>\n",
       "    <tr>\n",
       "      <th>2</th>\n",
       "      <td>A2181</td>\n",
       "      <td>Nicomachus, of Gerasa</td>\n",
       "      <td>Nicòmac, de Gerasa, actiu segle I;Nicomachus, ...</td>\n",
       "      <td>Latin</td>\n",
       "      <td>NaN</td>\n",
       "      <td>A2181|Nicomachus, of Gerasa|Nicòmac, de Gerasa...</td>\n",
       "    </tr>\n",
       "    <tr>\n",
       "      <th>3</th>\n",
       "      <td>A2491</td>\n",
       "      <td>Anaritius, -approximately 922</td>\n",
       "      <td>Abū al-ʿAbbās al-Faḍl ibn Ḥātim Nayrīzī...</td>\n",
       "      <td>Latin</td>\n",
       "      <td>W5039: In Decem Libros Priores Elementorum Euc...</td>\n",
       "      <td>A2491|Anaritius, -approximately 922|Abū al-ʿA...</td>\n",
       "    </tr>\n",
       "    <tr>\n",
       "      <th>4</th>\n",
       "      <td>A2492</td>\n",
       "      <td>Strecker, Karl, 1861-1945</td>\n",
       "      <td>Karl Strecker;Strecker, Karl;Strecker, Karl, 1...</td>\n",
       "      <td>Latin</td>\n",
       "      <td>NaN</td>\n",
       "      <td>A2492|Strecker, Karl, 1861-1945|Karl Strecker;...</td>\n",
       "    </tr>\n",
       "    <tr>\n",
       "      <th>...</th>\n",
       "      <td>...</td>\n",
       "      <td>...</td>\n",
       "      <td>...</td>\n",
       "      <td>...</td>\n",
       "      <td>...</td>\n",
       "      <td>...</td>\n",
       "    </tr>\n",
       "    <tr>\n",
       "      <th>5510</th>\n",
       "      <td>G73664</td>\n",
       "      <td>Leo, VI, Emperor of the East 866-912</td>\n",
       "      <td>Léon VI; 0866-0912; empereur d'Orient; Leo VI....</td>\n",
       "      <td>Greek</td>\n",
       "      <td>NaN</td>\n",
       "      <td>G73664|Leo, VI, Emperor of the East 866-912|Lé...</td>\n",
       "    </tr>\n",
       "    <tr>\n",
       "      <th>5511</th>\n",
       "      <td>G54624</td>\n",
       "      <td>Xenocrates, of Chalcedon, approximately 396 B....</td>\n",
       "      <td>Xenocrates; of Chalcedon; approximately 396 B....</td>\n",
       "      <td>Greek</td>\n",
       "      <td>NaN</td>\n",
       "      <td>G54624|Xenocrates, of Chalcedon, approximately...</td>\n",
       "    </tr>\n",
       "    <tr>\n",
       "      <th>5512</th>\n",
       "      <td>G28402</td>\n",
       "      <td>Thaletas, Musicus, um. 665 v. chr.</td>\n",
       "      <td>Taletes; Thaletas Musicus v665</td>\n",
       "      <td>Greek</td>\n",
       "      <td>NaN</td>\n",
       "      <td>G28402|Thaletas, Musicus, um. 665 v. chr.|Tale...</td>\n",
       "    </tr>\n",
       "    <tr>\n",
       "      <th>5513</th>\n",
       "      <td>G29158</td>\n",
       "      <td>Pachymérès, George, 1242-approximately 1310</td>\n",
       "      <td>Pachymère; Georges 1242-1310?; Pachymeres; Geo...</td>\n",
       "      <td>Greek</td>\n",
       "      <td>NaN</td>\n",
       "      <td>G29158|Pachymérès, George, 1242-approximately ...</td>\n",
       "    </tr>\n",
       "    <tr>\n",
       "      <th>5514</th>\n",
       "      <td>G48342</td>\n",
       "      <td>Philoxenus, of Alexandria, 1st cent. B.C.</td>\n",
       "      <td>Philoxène de Cythère 0435?-0380?; Philoxenus; ...</td>\n",
       "      <td>Greek</td>\n",
       "      <td>NaN</td>\n",
       "      <td>G48342|Philoxenus, of Alexandria, 1st cent. B....</td>\n",
       "    </tr>\n",
       "  </tbody>\n",
       "</table>\n",
       "<p>5515 rows × 6 columns</p>\n",
       "</div>"
      ],
      "text/plain": [
       "     DLL Identifier (Author)  \\\n",
       "0                      A1868   \n",
       "1                      A1870   \n",
       "2                      A2181   \n",
       "3                      A2491   \n",
       "4                      A2492   \n",
       "...                      ...   \n",
       "5510                  G73664   \n",
       "5511                  G54624   \n",
       "5512                  G28402   \n",
       "5513                  G29158   \n",
       "5514                  G48342   \n",
       "\n",
       "                                        Authorized Name  \\\n",
       "0                                     Herryson, Joannes   \n",
       "1                                Stratford, John, -1348   \n",
       "2                                 Nicomachus, of Gerasa   \n",
       "3                         Anaritius, -approximately 922   \n",
       "4                             Strecker, Karl, 1861-1945   \n",
       "...                                                 ...   \n",
       "5510               Leo, VI, Emperor of the East 866-912   \n",
       "5511  Xenocrates, of Chalcedon, approximately 396 B....   \n",
       "5512                 Thaletas, Musicus, um. 665 v. chr.   \n",
       "5513        Pachymérès, George, 1242-approximately 1310   \n",
       "5514          Philoxenus, of Alexandria, 1st cent. B.C.   \n",
       "\n",
       "                                          Variant Names  Latin  \\\n",
       "0     Herryson, Joannes floruit=15th Century A.D.;Jo...  Latin   \n",
       "1     Johannes Stratford;John Stratford;John Stratfo...  Latin   \n",
       "2     Nicòmac, de Gerasa, actiu segle I;Nicomachus, ...  Latin   \n",
       "3     Abū al-ʿAbbās al-Faḍl ibn Ḥātim Nayrīzī...  Latin   \n",
       "4     Karl Strecker;Strecker, Karl;Strecker, Karl, 1...  Latin   \n",
       "...                                                 ...    ...   \n",
       "5510  Léon VI; 0866-0912; empereur d'Orient; Leo VI....  Greek   \n",
       "5511  Xenocrates; of Chalcedon; approximately 396 B....  Greek   \n",
       "5512                     Taletes; Thaletas Musicus v665  Greek   \n",
       "5513  Pachymère; Georges 1242-1310?; Pachymeres; Geo...  Greek   \n",
       "5514  Philoxène de Cythère 0435?-0380?; Philoxenus; ...  Greek   \n",
       "\n",
       "                                         Combined Works  \\\n",
       "0                                                   NaN   \n",
       "1                                                   NaN   \n",
       "2                                                   NaN   \n",
       "3     W5039: In Decem Libros Priores Elementorum Euc...   \n",
       "4                                                   NaN   \n",
       "...                                                 ...   \n",
       "5510                                                NaN   \n",
       "5511                                                NaN   \n",
       "5512                                                NaN   \n",
       "5513                                                NaN   \n",
       "5514                                                NaN   \n",
       "\n",
       "                                                   Text  \n",
       "0     A1868|Herryson, Joannes|Herryson, Joannes flor...  \n",
       "1     A1870|Stratford, John, -1348|Johannes Stratfor...  \n",
       "2     A2181|Nicomachus, of Gerasa|Nicòmac, de Gerasa...  \n",
       "3     A2491|Anaritius, -approximately 922|Abū al-ʿA...  \n",
       "4     A2492|Strecker, Karl, 1861-1945|Karl Strecker;...  \n",
       "...                                                 ...  \n",
       "5510  G73664|Leo, VI, Emperor of the East 866-912|Lé...  \n",
       "5511  G54624|Xenocrates, of Chalcedon, approximately...  \n",
       "5512  G28402|Thaletas, Musicus, um. 665 v. chr.|Tale...  \n",
       "5513  G29158|Pachymérès, George, 1242-approximately ...  \n",
       "5514  G48342|Philoxenus, of Alexandria, 1st cent. B....  \n",
       "\n",
       "[5515 rows x 6 columns]"
      ]
     },
     "metadata": {},
     "output_type": "display_data"
    }
   ],
   "source": [
    "display(merged)"
   ]
  },
  {
   "cell_type": "markdown",
   "metadata": {},
   "source": [
    "## Create Metadata\n",
    "\n",
    "I want to be able to extract specific values after a successful search of the \"Text\" column, so I'll make a metadata record."
   ]
  },
  {
   "cell_type": "code",
   "execution_count": null,
   "metadata": {},
   "outputs": [],
   "source": [
    "metadata = []\n",
    "for _, row in merged.iterrows():\n",
    "    metadata.append({\n",
    "        \"text\": row[\"Text\"],  # Full text for embedding\n",
    "        \"author_id\": row[\"DLL Identifier (Author)\"],\n",
    "        \"latin\": row[\"Latin\"],\n",
    "        \"work_titles\": row[\"Combined Works\"]\n",
    "    })"
   ]
  },
  {
   "cell_type": "code",
   "execution_count": 19,
   "metadata": {},
   "outputs": [],
   "source": [
    "# Save to a CSV\n",
    "merged.to_csv('data/all_data.csv',index=False)"
   ]
  },
  {
   "cell_type": "markdown",
   "metadata": {},
   "source": [
    "## Create a FAISS Vector Store with Embedded Metadata\n",
    "\n",
    "For the vector store, I'm going to use [FAISS (Facebook AI Similarity Search)](https://ai.meta.com/tools/faiss/), \"a library that allows developers to quickly search for embeddings of multimedia documents that are similar to each other.\"\n",
    "\n",
    "To make things simple and more readable, I'm going to use [LangChain's](https://www.langchain.com/) API to accomplish this."
   ]
  },
  {
   "cell_type": "code",
   "execution_count": null,
   "metadata": {},
   "outputs": [
    {
     "name": "stderr",
     "output_type": "stream",
     "text": [
      "/var/folders/73/ldt1v6c15m52k8nzfbwmbvg00000gn/T/ipykernel_53723/1835117258.py:5: LangChainDeprecationWarning: The class `HuggingFaceEmbeddings` was deprecated in LangChain 0.2.2 and will be removed in 1.0. An updated version of the class exists in the :class:`~langchain-huggingface package and should be used instead. To use it run `pip install -U :class:`~langchain-huggingface` and import as `from :class:`~langchain_huggingface import HuggingFaceEmbeddings``.\n",
      "  embedding_model = HuggingFaceEmbeddings(model_name=\"distiluse-base-multilingual-cased-v2\")\n"
     ]
    }
   ],
   "source": [
    "from langchain.embeddings import HuggingFaceEmbeddings\n",
    "from langchain.vectorstores import FAISS\n",
    "\n",
    "# Initialize the embedding model\n",
    "embedding_model = HuggingFaceEmbeddings(model_name=\"distiluse-base-multilingual-cased-v2\")\n",
    "\n",
    "# Create FAISS vector store with enriched metadata\n",
    "vector_store = FAISS.from_texts(merged[\"Text\"].tolist(), embedding_model, metadatas=metadata)\n",
    "\n",
    "# Save the vector store\n",
    "vector_store.save_local(\"../vector_index\")"
   ]
  },
  {
   "cell_type": "code",
   "execution_count": null,
   "metadata": {},
   "outputs": [],
   "source": []
  }
 ],
 "metadata": {
  "kernelspec": {
   "display_name": "aiml",
   "language": "python",
   "name": "python3"
  },
  "language_info": {
   "codemirror_mode": {
    "name": "ipython",
    "version": 3
   },
   "file_extension": ".py",
   "mimetype": "text/x-python",
   "name": "python",
   "nbconvert_exporter": "python",
   "pygments_lexer": "ipython3",
   "version": "3.10.15"
  }
 },
 "nbformat": 4,
 "nbformat_minor": 2
}
